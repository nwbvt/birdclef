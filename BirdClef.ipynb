{
 "cells": [
  {
   "cell_type": "code",
   "execution_count": 1,
   "id": "f04733b2-d6a1-4486-bd4a-ca826ddb8482",
   "metadata": {},
   "outputs": [],
   "source": [
    "import numpy as np\n",
    "import random\n",
    "import librosa\n",
    "import matplotlib.pyplot as plt\n",
    "from IPython.display import Audio\n",
    "from torch.utils.data import DataLoader\n",
    "import torch\n",
    "import torch.nn as nn\n",
    "from data import BirdClefTrainAudio, BirdClefHarmonics\n",
    "from model import HarmonicModel\n",
    "from mimir import training\n",
    "import time\n",
    "import pickle\n",
    "import os"
   ]
  },
  {
   "cell_type": "code",
   "execution_count": 2,
   "id": "01b85096-5540-4643-b89a-9ad5bbc0b096",
   "metadata": {},
   "outputs": [],
   "source": [
    "np.random.seed(20250403)\n",
    "random.seed(20250403)\n",
    "torch.manual_seed(20250403)\n",
    "torch.cuda.manual_seed(20250403)\n",
    "torch.backends.cudnn.deterministic = True\n",
    "torch.backends.cudnn.benchmark = False\n"
   ]
  },
  {
   "cell_type": "code",
   "execution_count": 3,
   "id": "dc302636-3936-427b-a067-172ea9cbf024",
   "metadata": {},
   "outputs": [],
   "source": [
    "data_folder = \"data\""
   ]
  },
  {
   "cell_type": "code",
   "execution_count": 4,
   "id": "92004ecd-d7f7-4279-9edc-d33875c671d8",
   "metadata": {},
   "outputs": [],
   "source": [
    "audio = BirdClefTrainAudio(data_folder, max_duration=5, sr=16000)\n",
    "cachefile=\"data.pkl\"\n",
    "if os.path.isfile(cachefile):\n",
    "    with open(cachefile, \"rb\") as f:\n",
    "        ds = pickle.load(f)\n",
    "else:\n",
    "    start = time.time()\n",
    "    ds = BirdClefHarmonics(audio, fmin=500, fmax=4000)\n",
    "    print(f\"Loading data took {time.time()-start} seconds\")\n",
    "    with open(cachefile, \"wb\") as f:\n",
    "        pickle.dump(ds, f)"
   ]
  },
  {
   "cell_type": "code",
   "execution_count": 5,
   "id": "481c8d4f-c536-417a-bd03-67efa9818da5",
   "metadata": {},
   "outputs": [],
   "source": [
    "loss = nn.CrossEntropyLoss(weight=torch.tensor(audio.label_weights()).to(training.DEVICE))"
   ]
  },
  {
   "cell_type": "code",
   "execution_count": 6,
   "id": "08d22f0b-d40a-4bde-ba74-506b42fbbab5",
   "metadata": {},
   "outputs": [],
   "source": [
    "def accuracy(preds, y):\n",
    "    return sum(preds.argmax(1) == y)"
   ]
  },
  {
   "cell_type": "code",
   "execution_count": 7,
   "id": "b81ae40f-d2a5-4df4-9481-322766c4ca1d",
   "metadata": {},
   "outputs": [],
   "source": [
    "hps = training.HyperParameters(model_params={'n_labels': audio.n_labels, 'n_harmonics': 10,\n",
    "                                             \"num_filter_maps\": 64, \"kernel_size\": 128, \"hidden\": 128, \"dropout\": 0.5}, \n",
    "                               optimizer_params={'lr': 2e-4})"
   ]
  },
  {
   "cell_type": "code",
   "execution_count": 8,
   "id": "8fd86046-aa1c-4d04-b428-c6246e351676",
   "metadata": {},
   "outputs": [
    {
     "name": "stdout",
     "output_type": "stream",
     "text": [
      "Epoch   0: Loss=5.28267 val, 5.27317 train Accuracy=0.40896 val 0.29812 train \n",
      "Epoch   1: Loss=5.27517 val, 5.26048 train Accuracy=0.39216 val 0.34044 train \n",
      "Epoch   2: Loss=5.26877 val, 5.25006 train Accuracy=0.44538 val 0.43504 train \n",
      "Epoch   3: Loss=5.26397 val, 5.24278 train Accuracy=0.42857 val 0.46678 train \n",
      "Epoch   4: Loss=5.25931 val, 5.23502 train Accuracy=0.46779 val 0.49541 train \n",
      "Epoch   5: Loss=5.25813 val, 5.22990 train Accuracy=0.51261 val 0.52342 train \n",
      "Epoch   6: Loss=5.25652 val, 5.22516 train Accuracy=0.38375 val 0.43940 train \n",
      "Epoch   7: Loss=5.25296 val, 5.22118 train Accuracy=0.48459 val 0.51284 train \n",
      "Epoch   8: Loss=5.25020 val, 5.21684 train Accuracy=0.45658 val 0.42010 train \n",
      "Epoch   9: Loss=5.24787 val, 5.21458 train Accuracy=0.47339 val 0.47923 train \n",
      "Epoch  10: Loss=5.24730 val, 5.20949 train Accuracy=0.40056 val 0.40766 train \n",
      "Epoch  11: Loss=5.24603 val, 5.20714 train Accuracy=0.41176 val 0.40703 train \n",
      "Epoch  12: Loss=5.24494 val, 5.20524 train Accuracy=0.44538 val 0.47985 train \n",
      "Epoch  13: Loss=5.24298 val, 5.20188 train Accuracy=0.38375 val 0.44375 train \n",
      "Epoch  14: Loss=5.24136 val, 5.19920 train Accuracy=0.46779 val 0.47052 train \n",
      "Epoch  15: Loss=5.24323 val, 5.19820 train Accuracy=0.44538 val 0.45433 train \n",
      "Epoch  16: Loss=5.24155 val, 5.19582 train Accuracy=0.38655 val 0.41637 train \n",
      "Epoch  17: Loss=5.23933 val, 5.19464 train Accuracy=0.43417 val 0.46242 train \n",
      "Epoch  18: Loss=5.23948 val, 5.19163 train Accuracy=0.41737 val 0.48172 train \n",
      "Epoch  19: Loss=5.23922 val, 5.19000 train Accuracy=0.49580 val 0.48732 train \n",
      "Epoch  20: Loss=5.23414 val, 5.18708 train Accuracy=0.40616 val 0.46616 train \n",
      "Epoch  21: Loss=5.23316 val, 5.18383 train Accuracy=0.43417 val 0.46305 train \n",
      "Epoch  22: Loss=5.23136 val, 5.18379 train Accuracy=0.40056 val 0.42010 train \n",
      "Epoch  23: Loss=5.23237 val, 5.18191 train Accuracy=0.47899 val 0.46242 train \n",
      "Epoch  24: Loss=5.23114 val, 5.18134 train Accuracy=0.39496 val 0.47363 train \n",
      "Epoch  25: Loss=5.23216 val, 5.18043 train Accuracy=0.38936 val 0.41699 train \n",
      "Epoch  26: Loss=5.23268 val, 5.17945 train Accuracy=0.38375 val 0.45247 train \n",
      "Epoch  27: Loss=5.23422 val, 5.17789 train Accuracy=0.39496 val 0.44935 train \n",
      "Epoch  28: Loss=5.23338 val, 5.17830 train Accuracy=0.36134 val 0.40828 train \n",
      "Epoch  29: Loss=5.22957 val, 5.17421 train Accuracy=0.44538 val 0.44811 train \n",
      "Epoch  30: Loss=5.23420 val, 5.17415 train Accuracy=0.42857 val 0.45807 train \n",
      "Epoch  31: Loss=5.23203 val, 5.17375 train Accuracy=0.33333 val 0.42695 train \n",
      "Epoch  32: Loss=5.23107 val, 5.17031 train Accuracy=0.43417 val 0.45931 train \n",
      "Epoch  33: Loss=5.23102 val, 5.17035 train Accuracy=0.36695 val 0.42259 train \n",
      "Epoch  34: Loss=5.23257 val, 5.16887 train Accuracy=0.34454 val 0.39147 train \n",
      "Final results: Loss=5.229567050933838 Accuracy=0.44538 \n"
     ]
    }
   ],
   "source": [
    "results, model = training.train(data=ds, model_class = HarmonicModel, hyper_params=hps, loss_fn = loss,\n",
    "                                name=\"harmonicmodel\", pad=True, batch_size=16, metrics={\"Accuracy\": accuracy})"
   ]
  },
  {
   "cell_type": "code",
   "execution_count": null,
   "id": "5b5fd208-5654-434a-9fff-b6b89f39e21b",
   "metadata": {},
   "outputs": [],
   "source": []
  }
 ],
 "metadata": {
  "kernelspec": {
   "display_name": "Python 3 (ipykernel)",
   "language": "python",
   "name": "python3"
  },
  "language_info": {
   "codemirror_mode": {
    "name": "ipython",
    "version": 3
   },
   "file_extension": ".py",
   "mimetype": "text/x-python",
   "name": "python",
   "nbconvert_exporter": "python",
   "pygments_lexer": "ipython3",
   "version": "3.10.12"
  }
 },
 "nbformat": 4,
 "nbformat_minor": 5
}
