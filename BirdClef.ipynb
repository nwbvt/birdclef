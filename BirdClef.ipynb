{
 "cells": [
  {
   "cell_type": "code",
   "execution_count": 1,
   "id": "f04733b2-d6a1-4486-bd4a-ca826ddb8482",
   "metadata": {},
   "outputs": [],
   "source": [
    "import glob\n",
    "import pandas as pd\n",
    "import numpy as np\n",
    "import random\n",
    "import re"
   ]
  },
  {
   "cell_type": "code",
   "execution_count": 2,
   "id": "01b85096-5540-4643-b89a-9ad5bbc0b096",
   "metadata": {},
   "outputs": [],
   "source": [
    "np.random.seed(20250403)\n",
    "random.seed(20250403)"
   ]
  },
  {
   "cell_type": "code",
   "execution_count": 3,
   "id": "b09eaede-3674-42bf-ba57-ea9bf2d6d76c",
   "metadata": {},
   "outputs": [],
   "source": [
    "taxonomy = pd.read_csv('data/taxonomy.csv')"
   ]
  },
  {
   "cell_type": "code",
   "execution_count": 4,
   "id": "35af4e5d-4c6d-460e-bc12-46559851982b",
   "metadata": {},
   "outputs": [],
   "source": [
    "def get_fnames(folder, max_oggs=10):\n",
    "    return sorted(glob.glob(f'{folder}/*.ogg'))[:max_oggs]"
   ]
  },
  {
   "cell_type": "code",
   "execution_count": 5,
   "id": "c3908ab4-917f-428c-b2ec-9669e7773fdf",
   "metadata": {},
   "outputs": [],
   "source": [
    "data = {label: get_fnames(f'data/train_audio/{label}') \n",
    "        for label in taxonomy.primary_label.unique()}\n",
    "    "
   ]
  },
  {
   "cell_type": "code",
   "execution_count": null,
   "id": "c139cd47-0777-4326-a9a9-8508d92b3402",
   "metadata": {},
   "outputs": [],
   "source": []
  }
 ],
 "metadata": {
  "kernelspec": {
   "display_name": "Python 3 (ipykernel)",
   "language": "python",
   "name": "python3"
  },
  "language_info": {
   "codemirror_mode": {
    "name": "ipython",
    "version": 3
   },
   "file_extension": ".py",
   "mimetype": "text/x-python",
   "name": "python",
   "nbconvert_exporter": "python",
   "pygments_lexer": "ipython3",
   "version": "3.10.12"
  }
 },
 "nbformat": 4,
 "nbformat_minor": 5
}
