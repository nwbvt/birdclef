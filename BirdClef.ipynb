{
 "cells": [
  {
   "cell_type": "code",
   "execution_count": 6,
   "id": "f04733b2-d6a1-4486-bd4a-ca826ddb8482",
   "metadata": {},
   "outputs": [],
   "source": [
    "import numpy as np\n",
    "import random\n",
    "import librosa\n",
    "import matplotlib.pyplot as plt\n",
    "from IPython.display import Audio\n",
    "from torch.utils.data import DataLoader\n",
    "import torch\n",
    "import torch.nn as nn\n",
    "from data import BirdClefTrainAudio, BirdClefSTFTData\n",
    "from model import ConvModel\n",
    "from mimir import training"
   ]
  },
  {
   "cell_type": "code",
   "execution_count": 7,
   "id": "01b85096-5540-4643-b89a-9ad5bbc0b096",
   "metadata": {},
   "outputs": [],
   "source": [
    "np.random.seed(20250403)\n",
    "random.seed(20250403)\n",
    "torch.manual_seed(20250403)\n",
    "torch.cuda.manual_seed(20250403)\n",
    "torch.backends.cudnn.deterministic = True\n",
    "torch.backends.cudnn.benchmark = False\n"
   ]
  },
  {
   "cell_type": "code",
   "execution_count": 8,
   "id": "dc302636-3936-427b-a067-172ea9cbf024",
   "metadata": {},
   "outputs": [],
   "source": [
    "data_folder = \"data\""
   ]
  },
  {
   "cell_type": "code",
   "execution_count": 9,
   "id": "92004ecd-d7f7-4279-9edc-d33875c671d8",
   "metadata": {},
   "outputs": [],
   "source": [
    "audio = BirdClefTrainAudio(data_folder, max_duration=10)\n",
    "ds = BirdClefSTFTData(audio)"
   ]
  },
  {
   "cell_type": "code",
   "execution_count": 11,
   "id": "b81ae40f-d2a5-4df4-9481-322766c4ca1d",
   "metadata": {},
   "outputs": [],
   "source": [
    "hps = training.HyperParameters(model_params={'n_labels': audio.n_labels}, optimizer_params={'lr': 1e-2})"
   ]
  },
  {
   "cell_type": "code",
   "execution_count": 13,
   "id": "481c8d4f-c536-417a-bd03-67efa9818da5",
   "metadata": {},
   "outputs": [],
   "source": [
    "loss = nn.CrossEntropyLoss(weight=torch.tensor(audio.label_weights()).to(training.DEVICE))"
   ]
  },
  {
   "cell_type": "code",
   "execution_count": 14,
   "id": "8fd86046-aa1c-4d04-b428-c6246e351676",
   "metadata": {},
   "outputs": [
    {
     "name": "stdout",
     "output_type": "stream",
     "text": [
      "Epoch   0: Loss=5.26610  25708]\n",
      "Epoch   1: Loss=5.26388  25708]\n",
      "Epoch   2: Loss=5.26357  25708]\n",
      "Epoch   3: Loss=5.26361  25708]\n",
      "Epoch   4: Loss=5.26377  25708]\n",
      "Epoch   5: Loss=5.26399  25708]\n",
      "Epoch   6: Loss=5.26421  25708]\n",
      "Epoch   7: Loss=5.26440  25708]\n"
     ]
    }
   ],
   "source": [
    "results, model = training.train(data=ds, model_class = ConvModel, hyper_params=hps, loss_fn = loss,\n",
    "                                name=\"convmodel\", pad=True, batch_size=16, log=True, include_train_results=False, \n",
    "                                max_epochs=25, max_streak=5)"
   ]
  },
  {
   "cell_type": "code",
   "execution_count": null,
   "id": "cca7cdc8-e157-4504-a5a7-51ab114c43c8",
   "metadata": {},
   "outputs": [],
   "source": []
  }
 ],
 "metadata": {
  "kernelspec": {
   "display_name": "Python 3 (ipykernel)",
   "language": "python",
   "name": "python3"
  },
  "language_info": {
   "codemirror_mode": {
    "name": "ipython",
    "version": 3
   },
   "file_extension": ".py",
   "mimetype": "text/x-python",
   "name": "python",
   "nbconvert_exporter": "python",
   "pygments_lexer": "ipython3",
   "version": "3.10.12"
  }
 },
 "nbformat": 4,
 "nbformat_minor": 5
}
