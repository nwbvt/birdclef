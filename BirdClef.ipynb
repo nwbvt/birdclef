{
 "cells": [
  {
   "cell_type": "code",
   "execution_count": 1,
   "id": "f04733b2-d6a1-4486-bd4a-ca826ddb8482",
   "metadata": {},
   "outputs": [],
   "source": [
    "import numpy as np\n",
    "import random\n",
    "import librosa\n",
    "import matplotlib.pyplot as plt\n",
    "from IPython.display import Audio\n",
    "from torch.utils.data import DataLoader\n",
    "import torch\n",
    "import torch.nn as nn\n",
    "from data import BirdClefTrainAudio, BirdClefHarmonics\n",
    "from model import HarmonicModel\n",
    "from mimir import training\n",
    "import time\n",
    "import pickle\n",
    "import os"
   ]
  },
  {
   "cell_type": "code",
   "execution_count": 2,
   "id": "01b85096-5540-4643-b89a-9ad5bbc0b096",
   "metadata": {},
   "outputs": [],
   "source": [
    "np.random.seed(20250403)\n",
    "random.seed(20250403)\n",
    "torch.manual_seed(20250403)\n",
    "torch.cuda.manual_seed(20250403)\n",
    "torch.backends.cudnn.deterministic = True\n",
    "torch.backends.cudnn.benchmark = False\n"
   ]
  },
  {
   "cell_type": "code",
   "execution_count": 3,
   "id": "dc302636-3936-427b-a067-172ea9cbf024",
   "metadata": {},
   "outputs": [],
   "source": [
    "data_folder = \"data\""
   ]
  },
  {
   "cell_type": "code",
   "execution_count": 4,
   "id": "92004ecd-d7f7-4279-9edc-d33875c671d8",
   "metadata": {},
   "outputs": [],
   "source": [
    "audio = BirdClefTrainAudio(data_folder, max_duration=5, sr=16000)\n",
    "cachefile=\"data.pkl\"\n",
    "if os.path.isfile(cachefile):\n",
    "    with open(cachefile, \"rb\") as f:\n",
    "        ds = pickle.load(f)\n",
    "else:\n",
    "    start = time.time()\n",
    "    ds = BirdClefHarmonics(audio, fmin=500, fmax=4000)\n",
    "    print(f\"Loading data took {time.time()-start} seconds\")\n",
    "    with open(cachefile, \"wb\") as f:\n",
    "        pickle.dump(ds, f)"
   ]
  },
  {
   "cell_type": "code",
   "execution_count": 5,
   "id": "481c8d4f-c536-417a-bd03-67efa9818da5",
   "metadata": {},
   "outputs": [],
   "source": [
    "loss = nn.CrossEntropyLoss(weight=torch.tensor(audio.label_weights()).to(training.DEVICE))"
   ]
  },
  {
   "cell_type": "code",
   "execution_count": 6,
   "id": "08d22f0b-d40a-4bde-ba74-506b42fbbab5",
   "metadata": {},
   "outputs": [],
   "source": [
    "def accuracy(preds, y):\n",
    "    return sum(preds.argmax(1) == y)"
   ]
  },
  {
   "cell_type": "code",
   "execution_count": 7,
   "id": "b81ae40f-d2a5-4df4-9481-322766c4ca1d",
   "metadata": {},
   "outputs": [],
   "source": [
    "hps = training.HyperParameters(model_params={'n_labels': audio.n_labels, 'n_harmonics': 10,\n",
    "                                             \"num_filter_maps\": 64, \"kernel_size\": 128, \"hidden\": 128}, \n",
    "                               optimizer_params={'lr': 1e-3})"
   ]
  },
  {
   "cell_type": "code",
   "execution_count": 8,
   "id": "8fd86046-aa1c-4d04-b428-c6246e351676",
   "metadata": {},
   "outputs": [
    {
     "name": "stdout",
     "output_type": "stream",
     "text": [
      "Epoch   0: Loss=5.28320 val, 5.27421 train Accuracy=0.31653 val 0.34853 train \n",
      "Epoch   1: Loss=5.28194 val, 5.26336 train Accuracy=0.36415 val 0.36160 train \n",
      "Epoch   2: Loss=5.27255 val, 5.24881 train Accuracy=0.34734 val 0.41435 train \n",
      "Epoch   3: Loss=5.26859 val, 5.24209 train Accuracy=0.34174 val 0.38961 train \n",
      "Epoch   4: Loss=5.26385 val, 5.23843 train Accuracy=0.30812 val 0.38961 train \n",
      "Epoch   5: Loss=5.26144 val, 5.22988 train Accuracy=0.31373 val 0.37156 train \n",
      "Epoch   6: Loss=5.26240 val, 5.22605 train Accuracy=0.35854 val 0.37654 train \n",
      "Epoch   7: Loss=5.25970 val, 5.22256 train Accuracy=0.36415 val 0.41139 train \n",
      "Epoch   8: Loss=5.26111 val, 5.22101 train Accuracy=0.33053 val 0.37778 train \n",
      "Epoch   9: Loss=5.25427 val, 5.21586 train Accuracy=0.34734 val 0.37405 train \n",
      "Epoch  10: Loss=5.25165 val, 5.21123 train Accuracy=0.35294 val 0.37031 train \n",
      "Epoch  11: Loss=5.25038 val, 5.21096 train Accuracy=0.33333 val 0.33422 train \n",
      "Epoch  12: Loss=5.25259 val, 5.21058 train Accuracy=0.34174 val 0.35662 train \n",
      "Epoch  13: Loss=5.25445 val, 5.20799 train Accuracy=0.31653 val 0.33235 train \n",
      "Epoch  14: Loss=5.25239 val, 5.20372 train Accuracy=0.32493 val 0.34791 train \n",
      "Epoch  15: Loss=5.24884 val, 5.20441 train Accuracy=0.22129 val 0.30621 train \n",
      "Epoch  16: Loss=5.25077 val, 5.20481 train Accuracy=0.30252 val 0.32861 train \n",
      "Epoch  17: Loss=5.24489 val, 5.19824 train Accuracy=0.35014 val 0.34728 train \n",
      "Epoch  18: Loss=5.24633 val, 5.19708 train Accuracy=0.24930 val 0.30123 train \n",
      "Epoch  19: Loss=5.24390 val, 5.19806 train Accuracy=0.33894 val 0.32177 train \n",
      "Epoch  20: Loss=5.25483 val, 5.19997 train Accuracy=0.30532 val 0.31056 train \n",
      "Epoch  21: Loss=5.24845 val, 5.19636 train Accuracy=0.23249 val 0.28318 train \n",
      "Epoch  22: Loss=5.24420 val, 5.19336 train Accuracy=0.23810 val 0.30496 train \n",
      "Epoch  23: Loss=5.24536 val, 5.19845 train Accuracy=0.22129 val 0.27882 train \n",
      "Epoch  24: Loss=5.24907 val, 5.19476 train Accuracy=0.22689 val 0.26202 train \n",
      "Final results: Loss=5.243902683258057 Accuracy=0.33894 \n"
     ]
    }
   ],
   "source": [
    "results, model = training.train(data=ds, model_class = HarmonicModel, hyper_params=hps, loss_fn = loss,\n",
    "                                name=\"convmodel\", pad=True, batch_size=16, metrics={\"Accuracy\": accuracy})"
   ]
  },
  {
   "cell_type": "code",
   "execution_count": null,
   "id": "5b5fd208-5654-434a-9fff-b6b89f39e21b",
   "metadata": {},
   "outputs": [],
   "source": []
  }
 ],
 "metadata": {
  "kernelspec": {
   "display_name": "Python 3 (ipykernel)",
   "language": "python",
   "name": "python3"
  },
  "language_info": {
   "codemirror_mode": {
    "name": "ipython",
    "version": 3
   },
   "file_extension": ".py",
   "mimetype": "text/x-python",
   "name": "python",
   "nbconvert_exporter": "python",
   "pygments_lexer": "ipython3",
   "version": "3.10.12"
  }
 },
 "nbformat": 4,
 "nbformat_minor": 5
}
